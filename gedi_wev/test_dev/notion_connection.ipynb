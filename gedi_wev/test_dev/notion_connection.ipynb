{
 "cells": [
  {
   "cell_type": "markdown",
   "metadata": {},
   "source": [
    "## Basic Connection"
   ]
  },
  {
   "cell_type": "code",
   "execution_count": 1,
   "metadata": {},
   "outputs": [],
   "source": [
    "import os\n",
    "import requests\n",
    "from notion_client import Client\n",
    "os.environ['NOTION_API_KEY'] = \"secret_jnUpyC7BqRV1CEF3LmeEJ2sQPSFqKuiWsWtdnV2KIER\"\n",
    "\n",
    "notion = Client(auth=os.environ[\"NOTION_API_KEY\"])\n",
    "\n",
    "headers = {\n",
    "    \"Authorization\": f\"{os.environ['NOTION_API_KEY']}\",\n",
    "    \"Content-Type\": \"application/json\",\n",
    "    \"Notion-Version\": \"2022-06-28\"\n",
    "}"
   ]
  },
  {
   "cell_type": "markdown",
   "metadata": {},
   "source": [
    "## Database 객체에 있는 페이지들의 ID 리스트 반환"
   ]
  },
  {
   "cell_type": "code",
   "execution_count": 87,
   "metadata": {},
   "outputs": [
    {
     "name": "stdout",
     "output_type": "stream",
     "text": [
      "Page IDs in the database:\n",
      "ws_album_import               \t2024-08-28T02:18:00.000Z\t61be24b4-f4c8-41bd-bcf2-e30cb300c3c7\n",
      "ws_album                      \t2024-08-28T00:43:00.000Z\t618b7a7d-0b74-4cf3-8457-41ee944c0562\n",
      "we_meta.we_digital_product    \t2024-08-20T06:56:00.000Z\t02299f5a-f8c9-4b04-85a6-5fc634fc7ab9\n",
      "we_meta.we_media_product      \t2024-08-20T06:55:00.000Z\t4663eb83-f394-45de-b453-4d6ee08e6c95\n",
      "we_meta.ws_album_legacy       \t2024-08-20T02:43:00.000Z\ta83ff114-8349-4dd5-a9ac-c838d58f56be\n"
     ]
    }
   ],
   "source": [
    "\n",
    "# 데이터베이스 ID 및 Notion API URL\n",
    "database_id = \"907646de285c46b6bfdca72b26bc6e47\"\n",
    "notion_api_url = f\"https://api.notion.com/v1/databases/{database_id}/query\"\n",
    "\n",
    "# 페이지 요청 (필터나 정렬이 없는 기본 쿼리)\n",
    "response = requests.post(notion_api_url, headers=headers, json={})\n",
    "# 응답 처리\n",
    "if response.status_code == 200:\n",
    "    pages = response.json().get('results', [])\n",
    "    print(\"Page IDs in the database:\")\n",
    "    for page in pages:\n",
    "        page_id = page.get('id')\n",
    "        page_title = page.get('properties').get('Name').get('title')[0].get('plain_text')\n",
    "        page_created_at = page.get('created_time')\n",
    "        print(f\"{page_title:30}\\t{page_created_at}\\t{page_id}\")\n",
    "else:\n",
    "    print(\"Error:\", response.status_code, response.json())"
   ]
  },
  {
   "cell_type": "markdown",
   "metadata": {},
   "source": [
    "## Page에 Block 생성"
   ]
  },
  {
   "cell_type": "code",
   "execution_count": 26,
   "metadata": {},
   "outputs": [
    {
     "name": "stdout",
     "output_type": "stream",
     "text": [
      "블록이 성공적으로 추가되었습니다!\n"
     ]
    }
   ],
   "source": [
    "PAGE_ID = \"16beff63621f4cd3a66ceee5726e2dc4\".replace(\"-\", \"\")\n",
    "url = f\"https://api.notion.com/v1/blocks/{PAGE_ID}/children\"\n",
    "type = \"divider\"\n",
    "data = {\n",
    "    \"children\": [\n",
    "        {\n",
    "            \"object\": \"block\",\n",
    "            \"type\": \"table\",\n",
    "            \"table\": {\n",
    "                \"table_width\": 2,  # 테이블 열 개수\n",
    "                \"has_column_header\": True,  # 첫 번째 행을 헤더로 사용할지 여부\n",
    "                \"has_row_header\": False,  # 첫 번째 열을 헤더로 사용할지 여부\n",
    "                \"children\": [\n",
    "                    {\n",
    "                        \"object\": \"block\",\n",
    "                        \"type\": \"table_row\",\n",
    "                        \"table_row\": {\n",
    "                            \"cells\": [\n",
    "                                [{\"type\": \"text\", \"text\": {\"content\": \"Header 1\"}}],\n",
    "                                [{\"type\": \"text\", \"text\": {\"content\": \"Header 2\"}}]\n",
    "                            ]\n",
    "                        }\n",
    "                    },\n",
    "                    {\n",
    "                        \"object\": \"block\",\n",
    "                        \"type\": \"table_row\",\n",
    "                        \"table_row\": {\n",
    "                            \"cells\": [\n",
    "                                [{\"type\": \"text\", \"text\": {\"content\": \"Row 1, Col 1\"}}],\n",
    "                                [{\"type\": \"text\", \"text\": {\"content\": \"Row 1, Col 2\"}}]\n",
    "                            ]\n",
    "                        }\n",
    "                    },\n",
    "                    {\n",
    "                        \"object\": \"block\",\n",
    "                        \"type\": \"table_row\",\n",
    "                        \"table_row\": {\n",
    "                            \"cells\": [\n",
    "                                [{\"type\": \"text\", \"text\": {\"content\": \"Row 2, Col 1\"}}],\n",
    "                                [{\"type\": \"text\", \"text\": {\"content\": \"Row 2, Col 2\"}}]\n",
    "                            ]\n",
    "                        }\n",
    "                    }\n",
    "                ]\n",
    "            }\n",
    "        }\n",
    "    ]\n",
    "}\n",
    "\n",
    "response = requests.patch(url, headers=headers, json=data)\n",
    "\n",
    "# 응답 확인\n",
    "if response.status_code == 200:\n",
    "    print(\"블록이 성공적으로 추가되었습니다!\")\n",
    "else:\n",
    "    print(f\"추가 실패: {response.status_code}, {response.json()}\")"
   ]
  },
  {
   "cell_type": "markdown",
   "metadata": {},
   "source": [
    "## MD 파일을 그대로 페이지에 올리기 Using MarkdownIt"
   ]
  },
  {
   "cell_type": "code",
   "execution_count": 32,
   "metadata": {},
   "outputs": [],
   "source": [
    "from markdown_it import MarkdownIt\n",
    "\n",
    "PAGE_ID = \"618b7a7d-0b74-4cf3-8457-41ee944c0562\".replace(\"-\", \"\")\n",
    "markdown_file_path = \"/Users/lymansong/Documents/GitHub/mtms/data/specs/ws_album.md\"\n",
    "with open(markdown_file_path, 'r') as file:\n",
    "    markdown_content = file.read()\n",
    "\n",
    "# Markdown을 Notion 블록 형식으로 변환\n",
    "md = MarkdownIt()\n",
    "tokens = md.parse(markdown_content)"
   ]
  },
  {
   "cell_type": "code",
   "execution_count": 34,
   "metadata": {},
   "outputs": [],
   "source": [
    "def convert_md_to_notion_blocks(tokens):\n",
    "    blocks = []\n",
    "    for token in tokens:\n",
    "        if token.type == \"heading_open\":\n",
    "            level = int(token.tag[1])\n",
    "            content = tokens[tokens.index(token) + 1].content\n",
    "            blocks.append({\n",
    "                \"object\": \"block\",\n",
    "                \"type\": f\"heading_{level}\",\n",
    "                f\"heading_{level}\": {\n",
    "                    \"rich_text\": [{\"type\": \"text\", \"text\": {\"content\": content}}]\n",
    "                }\n",
    "            })\n",
    "        elif token.type == \"paragraph_open\":\n",
    "            content = tokens[tokens.index(token) + 1].content\n",
    "            blocks.append({\n",
    "                \"object\": \"block\",\n",
    "                \"type\": \"paragraph\",\n",
    "                \"paragraph\": {\n",
    "                    \"rich_text\": [{\"type\": \"text\", \"text\": {\"content\": content}}]\n",
    "                }\n",
    "            })\n",
    "        # 여기에 추가적인 Markdown 형식을 다룰 수 있습니다.\n",
    "    return blocks\n",
    "\n",
    "notion_blocks = convert_md_to_notion_blocks(tokens)"
   ]
  },
  {
   "cell_type": "markdown",
   "metadata": {},
   "source": [
    "## 블록 가져오기"
   ]
  },
  {
   "cell_type": "code",
   "execution_count": 3,
   "metadata": {},
   "outputs": [
    {
     "name": "stdout",
     "output_type": "stream",
     "text": [
      "{'object': 'block', 'id': 'e6cdfe1c-c009-4025-acca-9c21eaaa4da4', 'parent': {'type': 'page_id', 'page_id': '16beff63-621f-4cd3-a66c-eee5726e2dc4'}, 'created_time': '2024-09-06T06:00:00.000Z', 'last_edited_time': '2024-09-06T06:00:00.000Z', 'created_by': {'object': 'user', 'id': '73c553bc-accf-4140-9556-edf439cc245e'}, 'last_edited_by': {'object': 'user', 'id': '73c553bc-accf-4140-9556-edf439cc245e'}, 'has_children': False, 'archived': False, 'in_trash': False, 'type': 'heading_1', 'heading_1': {'rich_text': [{'type': 'text', 'text': {'content': 'we_mart.ws_album_sale', 'link': None}, 'annotations': {'bold': False, 'italic': False, 'strikethrough': False, 'underline': False, 'code': False, 'color': 'default'}, 'plain_text': 'we_mart.ws_album_sale', 'href': None}], 'is_toggleable': False, 'color': 'default'}}\n",
      "{'object': 'block', 'id': '3d0eff92-87fe-4f96-b158-1abb172b97bd', 'parent': {'type': 'page_id', 'page_id': '16beff63-621f-4cd3-a66c-eee5726e2dc4'}, 'created_time': '2024-09-06T06:00:00.000Z', 'last_edited_time': '2024-09-06T06:00:00.000Z', 'created_by': {'object': 'user', 'id': '73c553bc-accf-4140-9556-edf439cc245e'}, 'last_edited_by': {'object': 'user', 'id': '73c553bc-accf-4140-9556-edf439cc245e'}, 'has_children': False, 'archived': False, 'in_trash': False, 'type': 'heading_1', 'heading_1': {'rich_text': [{'type': 'text', 'text': {'content': 'BASIC INFO', 'link': None}, 'annotations': {'bold': False, 'italic': False, 'strikethrough': False, 'underline': False, 'code': False, 'color': 'default'}, 'plain_text': 'BASIC INFO', 'href': None}], 'is_toggleable': False, 'color': 'default'}}\n",
      "{'object': 'block', 'id': '5ee06620-7e90-42ec-8336-29906576ab56', 'parent': {'type': 'page_id', 'page_id': '16beff63-621f-4cd3-a66c-eee5726e2dc4'}, 'created_time': '2024-09-06T06:00:00.000Z', 'last_edited_time': '2024-09-06T06:00:00.000Z', 'created_by': {'object': 'user', 'id': '73c553bc-accf-4140-9556-edf439cc245e'}, 'last_edited_by': {'object': 'user', 'id': '73c553bc-accf-4140-9556-edf439cc245e'}, 'has_children': True, 'archived': False, 'in_trash': False, 'type': 'table', 'table': {'table_width': 2, 'has_column_header': False, 'has_row_header': True}}\n",
      "{'object': 'block', 'id': '477cdf5b-ae65-4824-bbe5-85acbce32136', 'parent': {'type': 'page_id', 'page_id': '16beff63-621f-4cd3-a66c-eee5726e2dc4'}, 'created_time': '2024-09-06T06:00:00.000Z', 'last_edited_time': '2024-09-06T06:03:00.000Z', 'created_by': {'object': 'user', 'id': '73c553bc-accf-4140-9556-edf439cc245e'}, 'last_edited_by': {'object': 'user', 'id': '44ff2ed5-55be-46c7-b73f-bb5823e4c641'}, 'has_children': True, 'archived': False, 'in_trash': False, 'type': 'heading_3', 'heading_3': {'rich_text': [{'type': 'text', 'text': {'content': '🔄 CHANGE HISTORY', 'link': None}, 'annotations': {'bold': False, 'italic': False, 'strikethrough': False, 'underline': False, 'code': False, 'color': 'default'}, 'plain_text': '🔄 CHANGE HISTORY', 'href': None}], 'is_toggleable': True, 'color': 'default'}}\n",
      "{'object': 'block', 'id': '3f44995e-9c24-4bcb-a821-a5573f0360dd', 'parent': {'type': 'page_id', 'page_id': '16beff63-621f-4cd3-a66c-eee5726e2dc4'}, 'created_time': '2024-09-06T06:02:00.000Z', 'last_edited_time': '2024-09-06T06:03:00.000Z', 'created_by': {'object': 'user', 'id': '44ff2ed5-55be-46c7-b73f-bb5823e4c641'}, 'last_edited_by': {'object': 'user', 'id': '44ff2ed5-55be-46c7-b73f-bb5823e4c641'}, 'has_children': True, 'archived': False, 'in_trash': False, 'type': 'toggle', 'toggle': {'rich_text': [{'type': 'text', 'text': {'content': 'Change History', 'link': None}, 'annotations': {'bold': False, 'italic': False, 'strikethrough': False, 'underline': False, 'code': False, 'color': 'default'}, 'plain_text': 'Change History', 'href': None}], 'color': 'default'}}\n",
      "{'object': 'block', 'id': '1db5c59e-c80d-433e-bcc7-079ae5e7fe4d', 'parent': {'type': 'page_id', 'page_id': '16beff63-621f-4cd3-a66c-eee5726e2dc4'}, 'created_time': '2024-09-06T06:00:00.000Z', 'last_edited_time': '2024-09-06T06:00:00.000Z', 'created_by': {'object': 'user', 'id': '73c553bc-accf-4140-9556-edf439cc245e'}, 'last_edited_by': {'object': 'user', 'id': '73c553bc-accf-4140-9556-edf439cc245e'}, 'has_children': False, 'archived': False, 'in_trash': False, 'type': 'heading_2', 'heading_2': {'rich_text': [{'type': 'text', 'text': {'content': '⌛️ BATCH', 'link': None}, 'annotations': {'bold': False, 'italic': False, 'strikethrough': False, 'underline': False, 'code': False, 'color': 'default'}, 'plain_text': '⌛️ BATCH', 'href': None}], 'is_toggleable': False, 'color': 'default'}}\n",
      "{'object': 'block', 'id': 'ea055386-47d6-428c-8565-72fd7f23a412', 'parent': {'type': 'page_id', 'page_id': '16beff63-621f-4cd3-a66c-eee5726e2dc4'}, 'created_time': '2024-09-06T06:00:00.000Z', 'last_edited_time': '2024-09-06T06:00:00.000Z', 'created_by': {'object': 'user', 'id': '73c553bc-accf-4140-9556-edf439cc245e'}, 'last_edited_by': {'object': 'user', 'id': '73c553bc-accf-4140-9556-edf439cc245e'}, 'has_children': False, 'archived': False, 'in_trash': False, 'type': 'heading_3', 'heading_3': {'rich_text': [{'type': 'text', 'text': {'content': 'DAG: ', 'link': None}, 'annotations': {'bold': False, 'italic': False, 'strikethrough': False, 'underline': False, 'code': False, 'color': 'default'}, 'plain_text': 'DAG: ', 'href': None}, {'type': 'text', 'text': {'content': 'analytics_ws_mart_daily', 'link': None}, 'annotations': {'bold': False, 'italic': False, 'strikethrough': False, 'underline': False, 'code': True, 'color': 'default'}, 'plain_text': 'analytics_ws_mart_daily', 'href': None}], 'is_toggleable': False, 'color': 'default'}}\n",
      "{'object': 'block', 'id': '2a19513f-246a-4460-861b-10416d18d186', 'parent': {'type': 'page_id', 'page_id': '16beff63-621f-4cd3-a66c-eee5726e2dc4'}, 'created_time': '2024-09-06T06:00:00.000Z', 'last_edited_time': '2024-09-06T06:00:00.000Z', 'created_by': {'object': 'user', 'id': '73c553bc-accf-4140-9556-edf439cc245e'}, 'last_edited_by': {'object': 'user', 'id': '73c553bc-accf-4140-9556-edf439cc245e'}, 'has_children': False, 'archived': False, 'in_trash': False, 'type': 'heading_3', 'heading_3': {'rich_text': [{'type': 'text', 'text': {'content': 'Update Interval: DAILY', 'link': None}, 'annotations': {'bold': False, 'italic': False, 'strikethrough': False, 'underline': False, 'code': False, 'color': 'default'}, 'plain_text': 'Update Interval: DAILY', 'href': None}], 'is_toggleable': False, 'color': 'default'}}\n",
      "{'object': 'block', 'id': '89060dac-967c-4a18-bbfe-f9632c3a2232', 'parent': {'type': 'page_id', 'page_id': '16beff63-621f-4cd3-a66c-eee5726e2dc4'}, 'created_time': '2024-09-06T06:00:00.000Z', 'last_edited_time': '2024-09-06T06:00:00.000Z', 'created_by': {'object': 'user', 'id': '73c553bc-accf-4140-9556-edf439cc245e'}, 'last_edited_by': {'object': 'user', 'id': '73c553bc-accf-4140-9556-edf439cc245e'}, 'has_children': False, 'archived': False, 'in_trash': False, 'type': 'heading_3', 'heading_3': {'rich_text': [{'type': 'text', 'text': {'content': 'Update Type: APPEND', 'link': None}, 'annotations': {'bold': False, 'italic': False, 'strikethrough': False, 'underline': False, 'code': False, 'color': 'default'}, 'plain_text': 'Update Type: APPEND', 'href': None}], 'is_toggleable': False, 'color': 'default'}}\n",
      "{'object': 'block', 'id': '915c20d0-9d85-47ef-b825-bec319d67382', 'parent': {'type': 'page_id', 'page_id': '16beff63-621f-4cd3-a66c-eee5726e2dc4'}, 'created_time': '2024-09-06T06:00:00.000Z', 'last_edited_time': '2024-09-06T06:00:00.000Z', 'created_by': {'object': 'user', 'id': '73c553bc-accf-4140-9556-edf439cc245e'}, 'last_edited_by': {'object': 'user', 'id': '73c553bc-accf-4140-9556-edf439cc245e'}, 'has_children': False, 'archived': False, 'in_trash': False, 'type': 'paragraph', 'paragraph': {'rich_text': [{'type': 'text', 'text': {'content': 'ㅤ', 'link': None}, 'annotations': {'bold': False, 'italic': False, 'strikethrough': False, 'underline': False, 'code': False, 'color': 'default'}, 'plain_text': 'ㅤ', 'href': None}], 'color': 'default'}}\n",
      "{'object': 'block', 'id': 'ac604ea6-0cf5-44c8-8064-efc886786419', 'parent': {'type': 'page_id', 'page_id': '16beff63-621f-4cd3-a66c-eee5726e2dc4'}, 'created_time': '2024-09-06T06:00:00.000Z', 'last_edited_time': '2024-09-06T06:00:00.000Z', 'created_by': {'object': 'user', 'id': '73c553bc-accf-4140-9556-edf439cc245e'}, 'last_edited_by': {'object': 'user', 'id': '73c553bc-accf-4140-9556-edf439cc245e'}, 'has_children': False, 'archived': False, 'in_trash': False, 'type': 'heading_2', 'heading_2': {'rich_text': [{'type': 'text', 'text': {'content': '📍 LINK URLs', 'link': None}, 'annotations': {'bold': False, 'italic': False, 'strikethrough': False, 'underline': False, 'code': False, 'color': 'default'}, 'plain_text': '📍 LINK URLs', 'href': None}], 'is_toggleable': False, 'color': 'default'}}\n",
      "{'object': 'block', 'id': '6a625601-9695-4718-b1c1-515d25125440', 'parent': {'type': 'page_id', 'page_id': '16beff63-621f-4cd3-a66c-eee5726e2dc4'}, 'created_time': '2024-09-06T06:00:00.000Z', 'last_edited_time': '2024-09-06T06:00:00.000Z', 'created_by': {'object': 'user', 'id': '73c553bc-accf-4140-9556-edf439cc245e'}, 'last_edited_by': {'object': 'user', 'id': '73c553bc-accf-4140-9556-edf439cc245e'}, 'has_children': False, 'archived': False, 'in_trash': False, 'type': 'heading_3', 'heading_3': {'rich_text': [{'type': 'text', 'text': {'content': 'Github: ', 'link': None}, 'annotations': {'bold': False, 'italic': False, 'strikethrough': False, 'underline': False, 'code': False, 'color': 'default'}, 'plain_text': 'Github: ', 'href': None}, {'type': 'text', 'text': {'content': 'Source Code', 'link': {'url': 'https://github.com/benxcorp/databricks/blob/main/src/data_analytics/mart/we_mart/ws_album_sale.py'}}, 'annotations': {'bold': False, 'italic': False, 'strikethrough': False, 'underline': False, 'code': False, 'color': 'default'}, 'plain_text': 'Source Code', 'href': 'https://github.com/benxcorp/databricks/blob/main/src/data_analytics/mart/we_mart/ws_album_sale.py'}], 'is_toggleable': False, 'color': 'default'}}\n",
      "{'object': 'block', 'id': 'ac75ee39-9d48-40d8-a52b-b809943faa96', 'parent': {'type': 'page_id', 'page_id': '16beff63-621f-4cd3-a66c-eee5726e2dc4'}, 'created_time': '2024-09-06T06:00:00.000Z', 'last_edited_time': '2024-09-06T06:00:00.000Z', 'created_by': {'object': 'user', 'id': '73c553bc-accf-4140-9556-edf439cc245e'}, 'last_edited_by': {'object': 'user', 'id': '73c553bc-accf-4140-9556-edf439cc245e'}, 'has_children': False, 'archived': False, 'in_trash': False, 'type': 'heading_3', 'heading_3': {'rich_text': [{'type': 'text', 'text': {'content': 'Airflow: ', 'link': None}, 'annotations': {'bold': False, 'italic': False, 'strikethrough': False, 'underline': False, 'code': False, 'color': 'default'}, 'plain_text': 'Airflow: ', 'href': None}, {'type': 'text', 'text': {'content': 'DAG', 'link': {'url': 'https://github.com/benxcorp/databricks/blob/main/src/data_analytics/mart/we_mart/ws_album_sale.py'}}, 'annotations': {'bold': False, 'italic': False, 'strikethrough': False, 'underline': False, 'code': False, 'color': 'default'}, 'plain_text': 'DAG', 'href': 'https://github.com/benxcorp/databricks/blob/main/src/data_analytics/mart/we_mart/ws_album_sale.py'}], 'is_toggleable': False, 'color': 'default'}}\n",
      "{'object': 'block', 'id': 'e8fcb995-d8f7-4d0c-aded-3cdfece7c3ee', 'parent': {'type': 'page_id', 'page_id': '16beff63-621f-4cd3-a66c-eee5726e2dc4'}, 'created_time': '2024-09-06T06:00:00.000Z', 'last_edited_time': '2024-09-06T06:00:00.000Z', 'created_by': {'object': 'user', 'id': '73c553bc-accf-4140-9556-edf439cc245e'}, 'last_edited_by': {'object': 'user', 'id': '73c553bc-accf-4140-9556-edf439cc245e'}, 'has_children': False, 'archived': False, 'in_trash': False, 'type': 'heading_2', 'heading_2': {'rich_text': [{'type': 'text', 'text': {'content': 'ㅤ', 'link': None}, 'annotations': {'bold': False, 'italic': False, 'strikethrough': False, 'underline': False, 'code': False, 'color': 'default'}, 'plain_text': 'ㅤ', 'href': None}], 'is_toggleable': False, 'color': 'default'}}\n",
      "{'object': 'block', 'id': '519769e9-fca2-4b30-8901-e2cc38c24516', 'parent': {'type': 'page_id', 'page_id': '16beff63-621f-4cd3-a66c-eee5726e2dc4'}, 'created_time': '2024-09-06T06:00:00.000Z', 'last_edited_time': '2024-09-06T06:00:00.000Z', 'created_by': {'object': 'user', 'id': '73c553bc-accf-4140-9556-edf439cc245e'}, 'last_edited_by': {'object': 'user', 'id': '73c553bc-accf-4140-9556-edf439cc245e'}, 'has_children': False, 'archived': False, 'in_trash': False, 'type': 'heading_1', 'heading_1': {'rich_text': [{'type': 'text', 'text': {'content': 'TABLE NOTICE', 'link': None}, 'annotations': {'bold': False, 'italic': False, 'strikethrough': False, 'underline': False, 'code': False, 'color': 'default'}, 'plain_text': 'TABLE NOTICE', 'href': None}], 'is_toggleable': False, 'color': 'default'}}\n",
      "{'object': 'block', 'id': '9009130c-fbac-4b35-bb74-cff90d8dbf0f', 'parent': {'type': 'page_id', 'page_id': '16beff63-621f-4cd3-a66c-eee5726e2dc4'}, 'created_time': '2024-09-06T06:00:00.000Z', 'last_edited_time': '2024-09-06T06:00:00.000Z', 'created_by': {'object': 'user', 'id': '73c553bc-accf-4140-9556-edf439cc245e'}, 'last_edited_by': {'object': 'user', 'id': '73c553bc-accf-4140-9556-edf439cc245e'}, 'has_children': False, 'archived': False, 'in_trash': False, 'type': 'heading_2', 'heading_2': {'rich_text': [{'type': 'text', 'text': {'content': 'ㅤ', 'link': None}, 'annotations': {'bold': False, 'italic': False, 'strikethrough': False, 'underline': False, 'code': False, 'color': 'default'}, 'plain_text': 'ㅤ', 'href': None}], 'is_toggleable': False, 'color': 'default'}}\n",
      "{'object': 'block', 'id': '50c859ca-edb4-42b6-b5d8-ddd2e4a77ecd', 'parent': {'type': 'page_id', 'page_id': '16beff63-621f-4cd3-a66c-eee5726e2dc4'}, 'created_time': '2024-09-06T06:00:00.000Z', 'last_edited_time': '2024-09-06T06:00:00.000Z', 'created_by': {'object': 'user', 'id': '73c553bc-accf-4140-9556-edf439cc245e'}, 'last_edited_by': {'object': 'user', 'id': '73c553bc-accf-4140-9556-edf439cc245e'}, 'has_children': False, 'archived': False, 'in_trash': False, 'type': 'heading_1', 'heading_1': {'rich_text': [{'type': 'text', 'text': {'content': 'COLUMN INFO', 'link': None}, 'annotations': {'bold': False, 'italic': False, 'strikethrough': False, 'underline': False, 'code': False, 'color': 'default'}, 'plain_text': 'COLUMN INFO', 'href': None}], 'is_toggleable': False, 'color': 'default'}}\n",
      "{'object': 'block', 'id': '0bb2c21c-f3f3-4f62-b6a8-2d78364bdf33', 'parent': {'type': 'page_id', 'page_id': '16beff63-621f-4cd3-a66c-eee5726e2dc4'}, 'created_time': '2024-09-06T06:00:00.000Z', 'last_edited_time': '2024-09-06T06:00:00.000Z', 'created_by': {'object': 'user', 'id': '73c553bc-accf-4140-9556-edf439cc245e'}, 'last_edited_by': {'object': 'user', 'id': '73c553bc-accf-4140-9556-edf439cc245e'}, 'has_children': True, 'archived': False, 'in_trash': False, 'type': 'table', 'table': {'table_width': 4, 'has_column_header': True, 'has_row_header': True}}\n",
      "{'object': 'block', 'id': 'e563a18a-a892-4e40-8473-d30666ef38ca', 'parent': {'type': 'page_id', 'page_id': '16beff63-621f-4cd3-a66c-eee5726e2dc4'}, 'created_time': '2024-09-06T06:00:00.000Z', 'last_edited_time': '2024-09-06T06:00:00.000Z', 'created_by': {'object': 'user', 'id': '73c553bc-accf-4140-9556-edf439cc245e'}, 'last_edited_by': {'object': 'user', 'id': '73c553bc-accf-4140-9556-edf439cc245e'}, 'has_children': False, 'archived': False, 'in_trash': False, 'type': 'heading_2', 'heading_2': {'rich_text': [{'type': 'text', 'text': {'content': 'ㅤ', 'link': None}, 'annotations': {'bold': False, 'italic': False, 'strikethrough': False, 'underline': False, 'code': False, 'color': 'default'}, 'plain_text': 'ㅤ', 'href': None}], 'is_toggleable': False, 'color': 'default'}}\n",
      "{'object': 'block', 'id': '35c9bffa-905d-40ff-a121-d48d27de5814', 'parent': {'type': 'page_id', 'page_id': '16beff63-621f-4cd3-a66c-eee5726e2dc4'}, 'created_time': '2024-09-06T06:00:00.000Z', 'last_edited_time': '2024-09-06T06:00:00.000Z', 'created_by': {'object': 'user', 'id': '73c553bc-accf-4140-9556-edf439cc245e'}, 'last_edited_by': {'object': 'user', 'id': '73c553bc-accf-4140-9556-edf439cc245e'}, 'has_children': False, 'archived': False, 'in_trash': False, 'type': 'heading_1', 'heading_1': {'rich_text': [{'type': 'text', 'text': {'content': 'DEPENDENCIES', 'link': None}, 'annotations': {'bold': False, 'italic': False, 'strikethrough': False, 'underline': False, 'code': False, 'color': 'default'}, 'plain_text': 'DEPENDENCIES', 'href': None}], 'is_toggleable': False, 'color': 'default'}}\n",
      "{'object': 'block', 'id': '0d2b5cfe-5384-4d61-8ba1-e2b6e3fb9034', 'parent': {'type': 'page_id', 'page_id': '16beff63-621f-4cd3-a66c-eee5726e2dc4'}, 'created_time': '2024-09-06T06:00:00.000Z', 'last_edited_time': '2024-09-06T06:00:00.000Z', 'created_by': {'object': 'user', 'id': '73c553bc-accf-4140-9556-edf439cc245e'}, 'last_edited_by': {'object': 'user', 'id': '73c553bc-accf-4140-9556-edf439cc245e'}, 'has_children': True, 'archived': False, 'in_trash': False, 'type': 'table', 'table': {'table_width': 2, 'has_column_header': True, 'has_row_header': True}}\n",
      "{'object': 'block', 'id': '15a56523-f747-42d7-ba8c-93f8c5694090', 'parent': {'type': 'page_id', 'page_id': '16beff63-621f-4cd3-a66c-eee5726e2dc4'}, 'created_time': '2024-09-06T06:00:00.000Z', 'last_edited_time': '2024-09-06T06:00:00.000Z', 'created_by': {'object': 'user', 'id': '73c553bc-accf-4140-9556-edf439cc245e'}, 'last_edited_by': {'object': 'user', 'id': '73c553bc-accf-4140-9556-edf439cc245e'}, 'has_children': False, 'archived': False, 'in_trash': False, 'type': 'heading_2', 'heading_2': {'rich_text': [{'type': 'text', 'text': {'content': '🐔 Source Tables Info', 'link': None}, 'annotations': {'bold': False, 'italic': False, 'strikethrough': False, 'underline': False, 'code': False, 'color': 'default'}, 'plain_text': '🐔 Source Tables Info', 'href': None}], 'is_toggleable': False, 'color': 'default'}}\n",
      "{'object': 'block', 'id': 'e826f383-8add-4af2-a740-4d9679d4409c', 'parent': {'type': 'page_id', 'page_id': '16beff63-621f-4cd3-a66c-eee5726e2dc4'}, 'created_time': '2024-09-06T06:00:00.000Z', 'last_edited_time': '2024-09-06T06:00:00.000Z', 'created_by': {'object': 'user', 'id': '73c553bc-accf-4140-9556-edf439cc245e'}, 'last_edited_by': {'object': 'user', 'id': '73c553bc-accf-4140-9556-edf439cc245e'}, 'has_children': False, 'archived': False, 'in_trash': False, 'type': 'paragraph', 'paragraph': {'rich_text': [{'type': 'text', 'text': {'content': 'ㅤ', 'link': None}, 'annotations': {'bold': False, 'italic': False, 'strikethrough': False, 'underline': False, 'code': False, 'color': 'default'}, 'plain_text': 'ㅤ', 'href': None}], 'color': 'default'}}\n",
      "{'object': 'block', 'id': 'c52742aa-c822-4453-bbd0-408739250f43', 'parent': {'type': 'page_id', 'page_id': '16beff63-621f-4cd3-a66c-eee5726e2dc4'}, 'created_time': '2024-09-06T06:00:00.000Z', 'last_edited_time': '2024-09-06T06:00:00.000Z', 'created_by': {'object': 'user', 'id': '73c553bc-accf-4140-9556-edf439cc245e'}, 'last_edited_by': {'object': 'user', 'id': '73c553bc-accf-4140-9556-edf439cc245e'}, 'has_children': False, 'archived': False, 'in_trash': False, 'type': 'heading_2', 'heading_2': {'rich_text': [{'type': 'text', 'text': {'content': '🐤 Target Tables Info', 'link': None}, 'annotations': {'bold': False, 'italic': False, 'strikethrough': False, 'underline': False, 'code': False, 'color': 'default'}, 'plain_text': '🐤 Target Tables Info', 'href': None}], 'is_toggleable': False, 'color': 'default'}}\n",
      "{'object': 'block', 'id': 'd52f39b7-9ef0-4247-b929-14f529fb5322', 'parent': {'type': 'page_id', 'page_id': '16beff63-621f-4cd3-a66c-eee5726e2dc4'}, 'created_time': '2024-09-06T06:00:00.000Z', 'last_edited_time': '2024-09-06T06:00:00.000Z', 'created_by': {'object': 'user', 'id': '73c553bc-accf-4140-9556-edf439cc245e'}, 'last_edited_by': {'object': 'user', 'id': '73c553bc-accf-4140-9556-edf439cc245e'}, 'has_children': False, 'archived': False, 'in_trash': False, 'type': 'heading_2', 'heading_2': {'rich_text': [{'type': 'text', 'text': {'content': 'ㅤ', 'link': None}, 'annotations': {'bold': False, 'italic': False, 'strikethrough': False, 'underline': False, 'code': False, 'color': 'default'}, 'plain_text': 'ㅤ', 'href': None}], 'is_toggleable': False, 'color': 'default'}}\n",
      "{'object': 'block', 'id': '7fd72de0-69df-4a87-9275-7e81a893f482', 'parent': {'type': 'page_id', 'page_id': '16beff63-621f-4cd3-a66c-eee5726e2dc4'}, 'created_time': '2024-09-06T06:00:00.000Z', 'last_edited_time': '2024-09-06T06:00:00.000Z', 'created_by': {'object': 'user', 'id': '73c553bc-accf-4140-9556-edf439cc245e'}, 'last_edited_by': {'object': 'user', 'id': '73c553bc-accf-4140-9556-edf439cc245e'}, 'has_children': False, 'archived': False, 'in_trash': False, 'type': 'heading_1', 'heading_1': {'rich_text': [{'type': 'text', 'text': {'content': 'HOW TO USE', 'link': None}, 'annotations': {'bold': False, 'italic': False, 'strikethrough': False, 'underline': False, 'code': False, 'color': 'default'}, 'plain_text': 'HOW TO USE', 'href': None}], 'is_toggleable': False, 'color': 'default'}}\n",
      "{'object': 'block', 'id': '9c9af85b-e724-4cc7-bad6-61651150436d', 'parent': {'type': 'page_id', 'page_id': '16beff63-621f-4cd3-a66c-eee5726e2dc4'}, 'created_time': '2024-09-06T06:00:00.000Z', 'last_edited_time': '2024-09-06T06:00:00.000Z', 'created_by': {'object': 'user', 'id': '73c553bc-accf-4140-9556-edf439cc245e'}, 'last_edited_by': {'object': 'user', 'id': '73c553bc-accf-4140-9556-edf439cc245e'}, 'has_children': False, 'archived': False, 'in_trash': False, 'type': 'heading_2', 'heading_2': {'rich_text': [{'type': 'text', 'text': {'content': 'ㅤ', 'link': None}, 'annotations': {'bold': False, 'italic': False, 'strikethrough': False, 'underline': False, 'code': False, 'color': 'default'}, 'plain_text': 'ㅤ', 'href': None}], 'is_toggleable': False, 'color': 'default'}}\n",
      "{'object': 'block', 'id': '9dc3290c-d7fc-4a98-bca9-d7da7b4e1f06', 'parent': {'type': 'page_id', 'page_id': '16beff63-621f-4cd3-a66c-eee5726e2dc4'}, 'created_time': '2024-09-06T06:00:00.000Z', 'last_edited_time': '2024-09-06T06:00:00.000Z', 'created_by': {'object': 'user', 'id': '73c553bc-accf-4140-9556-edf439cc245e'}, 'last_edited_by': {'object': 'user', 'id': '73c553bc-accf-4140-9556-edf439cc245e'}, 'has_children': False, 'archived': False, 'in_trash': False, 'type': 'divider', 'divider': {}}\n"
     ]
    }
   ],
   "source": [
    "PAGE_ID = \"16beff63621f4cd3a66ceee5726e2dc4\".replace(\"-\", \"\")\n",
    "url = f\"https://api.notion.com/v1/blocks/{PAGE_ID}/children\"\n",
    "\n",
    "response = requests.get(url, headers=headers)\n",
    "\n",
    "# 응답 확인 및 블록 출력\n",
    "if response.status_code == 200:\n",
    "    blocks = response.json().get(\"results\", [])\n",
    "    for block in blocks:\n",
    "        print(block)\n",
    "else:\n",
    "    print(f\"블록을 가져오지 못했습니다: {response.status_code}, {response.json()}\")\n"
   ]
  },
  {
   "cell_type": "markdown",
   "metadata": {},
   "source": [
    "### 테이블 row 가져오기"
   ]
  },
  {
   "cell_type": "code",
   "execution_count": 45,
   "metadata": {},
   "outputs": [
    {
     "name": "stdout",
     "output_type": "stream",
     "text": [
      "{'object': 'block', 'id': 'be34b529-610b-4010-b774-9ef789e4d047', 'parent': {'type': 'block_id', 'block_id': 'dc1922a8-0816-4f94-b22b-301cd82a47ab'}, 'created_time': '2024-08-28T02:18:00.000Z', 'last_edited_time': '2024-08-28T02:18:00.000Z', 'created_by': {'object': 'user', 'id': '44ff2ed5-55be-46c7-b73f-bb5823e4c641'}, 'last_edited_by': {'object': 'user', 'id': '44ff2ed5-55be-46c7-b73f-bb5823e4c641'}, 'has_children': False, 'archived': False, 'in_trash': False, 'type': 'table_row', 'table_row': {'cells': [[{'type': 'text', 'text': {'content': 'About', 'link': None}, 'annotations': {'bold': True, 'italic': False, 'strikethrough': False, 'underline': False, 'code': False, 'color': 'default'}, 'plain_text': 'About', 'href': None}], [{'type': 'text', 'text': {'content': '위버스샵 판매 앨범 메타 정보', 'link': None}, 'annotations': {'bold': False, 'italic': False, 'strikethrough': False, 'underline': False, 'code': False, 'color': 'default'}, 'plain_text': '위버스샵 판매 앨범 메타 정보', 'href': None}]]}}\n"
     ]
    }
   ],
   "source": [
    "def get_table_rows(table_block_id):\n",
    "    url = f\"https://api.notion.com/v1/blocks/{table_block_id}/children\"\n",
    "    rows = []\n",
    "    has_more = True\n",
    "    start_cursor = None\n",
    "\n",
    "    while has_more:\n",
    "        response = requests.get(url, headers=headers, params={\"start_cursor\": start_cursor} if start_cursor else {})\n",
    "        if response.status_code == 200:\n",
    "            data = response.json()\n",
    "            rows.extend(data.get('results', []))\n",
    "            has_more = data.get('has_more', False)\n",
    "            start_cursor = data.get('next_cursor', None)\n",
    "        else:\n",
    "            print(f\"테이블 행을 가져오지 못했습니다: {response.status_code}, {response.json()}\")\n",
    "            has_more = False\n",
    "\n",
    "    return rows\n",
    "rows = get_table_rows(table_block_id=\"dc1922a8-0816-4f94-b22b-301cd82a47ab\".replace(\"-\", \"\"))\n",
    "print(rows[0])"
   ]
  },
  {
   "cell_type": "markdown",
   "metadata": {},
   "source": [
    "## 페이지에 블록 추가하기"
   ]
  },
  {
   "cell_type": "code",
   "execution_count": 43,
   "metadata": {},
   "outputs": [
    {
     "name": "stdout",
     "output_type": "stream",
     "text": [
      "블록이 성공적으로 추가되었습니다!\n",
      "추가 실패: 400, {'object': 'error', 'status': 400, 'code': 'validation_error', 'message': 'body failed validation: body.children[0].table.children should be defined, instead was `undefined`.', 'request_id': '03492cf9-f031-4659-8e56-3689ee9636d2'}\n",
      "블록이 성공적으로 추가되었습니다!\n",
      "블록이 성공적으로 추가되었습니다!\n",
      "블록이 성공적으로 추가되었습니다!\n",
      "블록이 성공적으로 추가되었습니다!\n",
      "블록이 성공적으로 추가되었습니다!\n",
      "블록이 성공적으로 추가되었습니다!\n",
      "블록이 성공적으로 추가되었습니다!\n",
      "블록이 성공적으로 추가되었습니다!\n",
      "블록이 성공적으로 추가되었습니다!\n",
      "블록이 성공적으로 추가되었습니다!\n",
      "블록이 성공적으로 추가되었습니다!\n",
      "추가 실패: 400, {'object': 'error', 'status': 400, 'code': 'validation_error', 'message': 'body failed validation: body.children[0].table.children should be defined, instead was `undefined`.', 'request_id': '1471d653-bb29-4666-850f-2fdab4c37f39'}\n",
      "블록이 성공적으로 추가되었습니다!\n",
      "블록이 성공적으로 추가되었습니다!\n",
      "블록이 성공적으로 추가되었습니다!\n",
      "블록이 성공적으로 추가되었습니다!\n",
      "블록이 성공적으로 추가되었습니다!\n",
      "블록이 성공적으로 추가되었습니다!\n",
      "블록이 성공적으로 추가되었습니다!\n",
      "블록이 성공적으로 추가되었습니다!\n",
      "블록이 성공적으로 추가되었습니다!\n",
      "추가 실패: 400, {'object': 'error', 'status': 400, 'code': 'validation_error', 'message': 'body failed validation: body.children[0].table.children should be defined, instead was `undefined`.', 'request_id': '1f062529-bd25-4b62-ab6a-a4501095b55b'}\n",
      "블록이 성공적으로 추가되었습니다!\n",
      "블록이 성공적으로 추가되었습니다!\n",
      "블록이 성공적으로 추가되었습니다!\n",
      "블록이 성공적으로 추가되었습니다!\n",
      "블록이 성공적으로 추가되었습니다!\n",
      "블록이 성공적으로 추가되었습니다!\n",
      "블록이 성공적으로 추가되었습니다!\n",
      "블록이 성공적으로 추가되었습니다!\n",
      "블록이 성공적으로 추가되었습니다!\n",
      "블록이 성공적으로 추가되었습니다!\n",
      "블록이 성공적으로 추가되었습니다!\n",
      "블록이 성공적으로 추가되었습니다!\n",
      "블록이 성공적으로 추가되었습니다!\n",
      "블록이 성공적으로 추가되었습니다!\n",
      "블록이 성공적으로 추가되었습니다!\n",
      "블록이 성공적으로 추가되었습니다!\n",
      "블록이 성공적으로 추가되었습니다!\n",
      "블록이 성공적으로 추가되었습니다!\n",
      "블록이 성공적으로 추가되었습니다!\n"
     ]
    }
   ],
   "source": [
    "# Notion 페이지에 블록 추가 요청\n",
    "PAGE_ID = \"16beff63621f4cd3a66ceee5726e2dc4\".replace(\"-\", \"\")\n",
    "url = f\"https://api.notion.com/v1/blocks/{PAGE_ID}/children\"\n",
    "for block in blocks:\n",
    "    response = requests.patch(url, headers=headers, json={\"children\": [block]})\n",
    "    if response.status_code == 200:\n",
    "        print(\"블록이 성공적으로 추가되었습니다!\")\n",
    "    else:\n",
    "        print(f\"추가 실패: {response.status_code}, {response.json()}\")"
   ]
  },
  {
   "cell_type": "markdown",
   "metadata": {},
   "source": [
    "### 테이블 블록 추가"
   ]
  },
  {
   "cell_type": "code",
   "execution_count": 90,
   "metadata": {},
   "outputs": [],
   "source": [
    "# 테이블 블록 추가 함수\n",
    "def add_table_block(page_id, table_block):\n",
    "    url = f\"https://api.notion.com/v1/blocks/{page_id}/children\"\n",
    "    \n",
    "    \n",
    "    # POST 요청으로 테이블 블록 추가\n",
    "    response = requests.patch(url, headers=headers, json={\"children\": [table_block]})\n",
    "\n",
    "    if response.status_code == 200:\n",
    "        table_id = response.json()['results'][0]['id']\n",
    "        print(\"테이블 블록이 성공적으로 추가되었습니다.\")\n",
    "        return table_id\n",
    "    else:\n",
    "        print(f\"테이블 블록 추가 실패: {response.status_code}, {response.json()}\")\n",
    "        return None\n",
    "\n",
    "# 테이블 행 블록 추가 함수\n",
    "def add_table_rows(table_block_id, rows):\n",
    "    url = f\"https://api.notion.com/v1/blocks/{table_block_id}/children\"\n",
    "    \n",
    "    # 테이블 행 블록들 정의\n",
    "    table_row_blocks = []\n",
    "    for row in rows:\n",
    "        table_row_blocks.append({\n",
    "            \"object\": \"block\",\n",
    "            \"type\": \"table_row\",\n",
    "            \"table_row\": {\n",
    "                \"cells\": [[{\"type\": \"text\", \"text\": {\"content\": cell}}] for cell in row]\n",
    "            }\n",
    "        })\n",
    "\n",
    "    # PATCH 요청으로 테이블 행 블록 추가\n",
    "    response = requests.patch(url, headers=headers, json={\"children\": table_row_blocks})\n",
    "\n",
    "    if response.status_code == 200:\n",
    "        print(\"테이블 행이 성공적으로 추가되었습니다.\")\n",
    "    else:\n",
    "        print(f\"테이블 행 추가 실패: {response.status_code}, {response.json()}\")"
   ]
  },
  {
   "cell_type": "code",
   "execution_count": 96,
   "metadata": {},
   "outputs": [
    {
     "data": {
      "text/plain": [
       "{'object': 'block',\n",
       " 'id': 'dc1922a8-0816-4f94-b22b-301cd82a47ab',\n",
       " 'parent': {'type': 'page_id',\n",
       "  'page_id': '61be24b4-f4c8-41bd-bcf2-e30cb300c3c7'},\n",
       " 'created_time': '2024-08-28T02:18:00.000Z',\n",
       " 'last_edited_time': '2024-08-28T02:18:00.000Z',\n",
       " 'created_by': {'object': 'user',\n",
       "  'id': '44ff2ed5-55be-46c7-b73f-bb5823e4c641'},\n",
       " 'last_edited_by': {'object': 'user',\n",
       "  'id': '44ff2ed5-55be-46c7-b73f-bb5823e4c641'},\n",
       " 'has_children': True,\n",
       " 'archived': False,\n",
       " 'in_trash': False,\n",
       " 'type': 'table',\n",
       " 'table': {'table_width': 2,\n",
       "  'has_column_header': False,\n",
       "  'has_row_header': False}}"
      ]
     },
     "execution_count": 96,
     "metadata": {},
     "output_type": "execute_result"
    }
   ],
   "source": [
    "blocks[1]"
   ]
  },
  {
   "cell_type": "code",
   "execution_count": 137,
   "metadata": {},
   "outputs": [],
   "source": [
    "table_sample = {\n",
    "   \"children\":[\n",
    "      {\n",
    "         \"object\":\"block\",\n",
    "         \"type\":\"table\",\n",
    "         \"table\":{\n",
    "            \"table_width\":2,\n",
    "            \"has_column_header\":False,\n",
    "            \"has_row_header\":False,\n",
    "            \"children\":[\n",
    "               {\n",
    "                  \"object\":\"block\",\n",
    "                  \"type\":\"table_row\",\n",
    "                  \"table_row\":{\n",
    "                     \"cells\":[\n",
    "                        [\n",
    "                           {\n",
    "                              \"type\":\"text\",\n",
    "                              \"text\":{\n",
    "                                 \"content\":\"About\",\n",
    "                                 \"link\":None\n",
    "                              },\n",
    "                              \"annotations\":{\n",
    "                                 \"bold\":True,\n",
    "                                 \"italic\":False,\n",
    "                                 \"strikethrough\":False,\n",
    "                                 \"underline\":False,\n",
    "                                 \"code\":False,\n",
    "                                 \"color\":\"default\"\n",
    "                              },\n",
    "                              \"plain_text\":\"About\",\n",
    "                              \"href\":None\n",
    "                           }\n",
    "                        ],\n",
    "                        [\n",
    "                           {\n",
    "                              \"type\":\"text\",\n",
    "                              \"text\":{\n",
    "                                 \"content\":\"위버스샵 판매 앨범 메타 정보\",\n",
    "                                 \"link\":None\n",
    "                              },\n",
    "                              \"annotations\":{\n",
    "                                 \"bold\":False,\n",
    "                                 \"italic\":False,\n",
    "                                 \"strikethrough\":False,\n",
    "                                 \"underline\":False,\n",
    "                                 \"code\":False,\n",
    "                                 \"color\":\"default\"\n",
    "                              },\n",
    "                              \"plain_text\":\"위버스샵 판매 앨범 메타 정보\",\n",
    "                              \"href\":None\n",
    "                           }\n",
    "                        ]\n",
    "                     ]\n",
    "                  }\n",
    "               }\n",
    "            ]\n",
    "         }\n",
    "      }\n",
    "   ]\n",
    "}"
   ]
  },
  {
   "cell_type": "code",
   "execution_count": 150,
   "metadata": {},
   "outputs": [],
   "source": [
    "from typing import List, Dict, Tuple\n",
    "def get_a_table_row(content_list:List[Tuple]) -> Dict:\n",
    "    cell_list = []\n",
    "    for content in content_list:\n",
    "        cell_list.append(\n",
    "            [\n",
    "                {\n",
    "                    \"type\":\"text\",\n",
    "                    \"text\":{\n",
    "                        \"content\":content[0],\n",
    "                        \"link\":None\n",
    "                    },\n",
    "                    \"annotations\":content[1],\n",
    "                    \"plain_text\":content[0],\n",
    "                    \"href\":None\n",
    "                }\n",
    "            ]\n",
    "        )\n",
    "    row = {\n",
    "        \"object\" : \"block\",\n",
    "        \"type\" : \"table_row\",\n",
    "        \"table_row\" : {\"cells\" : cell_list}\n",
    "    }\n",
    "    return row\n",
    "def get_a_table(table_width, has_column_header, has_row_header, table_rows:List[Dict]):\n",
    "    table_obj = {\n",
    "        \"table_width\":table_width,\n",
    "        \"has_column_header\":has_column_header,\n",
    "        \"has_row_header\":has_row_header,\n",
    "    }\n",
    "    table_obj['children'] = table_rows\n",
    "\n",
    "    table = {\n",
    "        \"object\" : \"block\",\n",
    "        \"type\" : \"table\",\n",
    "        \"table\" : table_obj\n",
    "    }\n",
    "\n",
    "    return {\"children\" : [table]}"
   ]
  },
  {
   "cell_type": "code",
   "execution_count": 153,
   "metadata": {},
   "outputs": [
    {
     "ename": "NameError",
     "evalue": "name 'row' is not defined",
     "output_type": "error",
     "traceback": [
      "\u001b[0;31m---------------------------------------------------------------------------\u001b[0m",
      "\u001b[0;31mNameError\u001b[0m                                 Traceback (most recent call last)",
      "Cell \u001b[0;32mIn[153], line 1\u001b[0m\n\u001b[0;32m----> 1\u001b[0m \u001b[43mrow\u001b[49m\n",
      "\u001b[0;31mNameError\u001b[0m: name 'row' is not defined"
     ]
    }
   ],
   "source": [
    "row"
   ]
  },
  {
   "cell_type": "code",
   "execution_count": 156,
   "metadata": {},
   "outputs": [
    {
     "data": {
      "text/plain": [
       "{'children': [{'object': 'block',\n",
       "   'type': 'table',\n",
       "   'table': {'table_width': 2,\n",
       "    'has_column_header': False,\n",
       "    'has_row_header': False,\n",
       "    'children': [{'object': 'block',\n",
       "      'type': 'table_row',\n",
       "      'table_row': {'cells': [[{'type': 'text',\n",
       "          'text': {'content': 'Content', 'link': None},\n",
       "          'annotations': {'bold': True,\n",
       "           'italic': False,\n",
       "           'strikethrough': False,\n",
       "           'underline': False,\n",
       "           'code': False,\n",
       "           'color': 'default'},\n",
       "          'plain_text': 'Content',\n",
       "          'href': None}],\n",
       "        [{'type': 'text',\n",
       "          'text': {'content': 'Sample', 'link': None},\n",
       "          'annotations': {'bold': False,\n",
       "           'italic': False,\n",
       "           'strikethrough': False,\n",
       "           'underline': False,\n",
       "           'code': False,\n",
       "           'color': 'default'},\n",
       "          'plain_text': 'Sample',\n",
       "          'href': None}]]}}]}}]}"
      ]
     },
     "execution_count": 156,
     "metadata": {},
     "output_type": "execute_result"
    }
   ],
   "source": [
    "c_list = []\n",
    "c_list.append(\n",
    "    (\n",
    "        \"Content\",\n",
    "        {\n",
    "            \"bold\":True,\n",
    "            \"italic\":False,\n",
    "            \"strikethrough\":False,\n",
    "            \"underline\":False,\n",
    "            \"code\":False,\n",
    "            \"color\":\"default\"\n",
    "        }\n",
    "    )\n",
    ")\n",
    "c_list.append(\n",
    "    (\n",
    "        \"Sample\",\n",
    "        {\n",
    "            \"bold\":False,\n",
    "            \"italic\":False,\n",
    "            \"strikethrough\":False,\n",
    "            \"underline\":False,\n",
    "            \"code\":False,\n",
    "            \"color\":\"default\"\n",
    "        }\n",
    "    )\n",
    ")\n",
    "row = get_a_table_row(c_list)\n",
    "table = get_a_table(len(c_list), False, False, row)\n",
    "table"
   ]
  },
  {
   "cell_type": "code",
   "execution_count": 157,
   "metadata": {},
   "outputs": [
    {
     "name": "stdout",
     "output_type": "stream",
     "text": [
      "테이블이 성공적으로 추가되었습니다!\n"
     ]
    }
   ],
   "source": [
    "PAGE_ID = \"618b7a7d-0b74-4cf3-8457-41ee944c0562\".replace(\"-\", \"\")\n",
    "url = f\"https://api.notion.com/v1/blocks/{PAGE_ID}/children\"\n",
    "response = requests.patch(url, headers=headers, json=table)\n",
    "\n",
    "# 응답 확인\n",
    "if response.status_code == 200:\n",
    "    print(\"테이블이 성공적으로 추가되었습니다!\")\n",
    "else:\n",
    "    print(f\"추가 실패: {response.status_code}, {response.json()}\")\n"
   ]
  },
  {
   "cell_type": "code",
   "execution_count": 79,
   "metadata": {},
   "outputs": [
    {
     "data": {
      "text/plain": [
       "{'object': 'block',\n",
       " 'type': 'table_row',\n",
       " 'table_row': {'cells': [[{'type': 'text',\n",
       "     'text': {'content': 'About', 'link': None},\n",
       "     'annotations': {'bold': True,\n",
       "      'italic': False,\n",
       "      'strikethrough': False,\n",
       "      'underline': False,\n",
       "      'code': False,\n",
       "      'color': 'default'},\n",
       "     'plain_text': 'About',\n",
       "     'href': None}],\n",
       "   [{'type': 'text',\n",
       "     'text': {'content': '위버스샵 판매 앨범 메타 정보', 'link': None},\n",
       "     'annotations': {'bold': False,\n",
       "      'italic': False,\n",
       "      'strikethrough': False,\n",
       "      'underline': False,\n",
       "      'code': False,\n",
       "      'color': 'default'},\n",
       "     'plain_text': '위버스샵 판매 앨범 메타 정보',\n",
       "     'href': None}]]}}"
      ]
     },
     "execution_count": 79,
     "metadata": {},
     "output_type": "execute_result"
    }
   ],
   "source": [
    "{\"object\" : rows[0]['object'], \"type\" : rows[0]['type'], \"table_row\" : rows[0]['table_row']}"
   ]
  },
  {
   "cell_type": "code",
   "execution_count": 72,
   "metadata": {},
   "outputs": [],
   "source": []
  },
  {
   "cell_type": "code",
   "execution_count": 75,
   "metadata": {},
   "outputs": [
    {
     "data": {
      "text/plain": [
       "['__class__',\n",
       " '__class_getitem__',\n",
       " '__contains__',\n",
       " '__delattr__',\n",
       " '__delitem__',\n",
       " '__dir__',\n",
       " '__doc__',\n",
       " '__eq__',\n",
       " '__format__',\n",
       " '__ge__',\n",
       " '__getattribute__',\n",
       " '__getitem__',\n",
       " '__getstate__',\n",
       " '__gt__',\n",
       " '__hash__',\n",
       " '__init__',\n",
       " '__init_subclass__',\n",
       " '__ior__',\n",
       " '__iter__',\n",
       " '__le__',\n",
       " '__len__',\n",
       " '__lt__',\n",
       " '__ne__',\n",
       " '__new__',\n",
       " '__or__',\n",
       " '__reduce__',\n",
       " '__reduce_ex__',\n",
       " '__repr__',\n",
       " '__reversed__',\n",
       " '__ror__',\n",
       " '__setattr__',\n",
       " '__setitem__',\n",
       " '__sizeof__',\n",
       " '__str__',\n",
       " '__subclasshook__',\n",
       " 'clear',\n",
       " 'copy',\n",
       " 'fromkeys',\n",
       " 'get',\n",
       " 'items',\n",
       " 'keys',\n",
       " 'pop',\n",
       " 'popitem',\n",
       " 'setdefault',\n",
       " 'update',\n",
       " 'values']"
      ]
     },
     "execution_count": 75,
     "metadata": {},
     "output_type": "execute_result"
    }
   ],
   "source": [
    "cur_row"
   ]
  },
  {
   "cell_type": "code",
   "execution_count": 5,
   "metadata": {},
   "outputs": [
    {
     "data": {
      "text/plain": [
       "{'object': 'block',\n",
       " 'type': 'toggle',\n",
       " 'toggle': {'rich_text': [{'type': 'text',\n",
       "    'text': {'content': 'Change History', 'link': None},\n",
       "    'annotations': {'bold': False,\n",
       "     'italic': False,\n",
       "     'strikethrough': False,\n",
       "     'underline': False,\n",
       "     'code': False,\n",
       "     'color': 'default'},\n",
       "    'plain_text': 'Change History',\n",
       "    'href': None}]}}"
      ]
     },
     "execution_count": 5,
     "metadata": {},
     "output_type": "execute_result"
    }
   ],
   "source": [
    "from parser_utils import get_text_block\n",
    "\n",
    "get_text_block(content_string = 'Change History', block_type = 'toggle')"
   ]
  }
 ],
 "metadata": {
  "kernelspec": {
   "display_name": "proj_table_ms",
   "language": "python",
   "name": "python3"
  },
  "language_info": {
   "codemirror_mode": {
    "name": "ipython",
    "version": 3
   },
   "file_extension": ".py",
   "mimetype": "text/x-python",
   "name": "python",
   "nbconvert_exporter": "python",
   "pygments_lexer": "ipython3",
   "version": "3.12.5"
  }
 },
 "nbformat": 4,
 "nbformat_minor": 2
}
